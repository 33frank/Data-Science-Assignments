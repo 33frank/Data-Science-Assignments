{
 "cells": [
  {
   "cell_type": "markdown",
   "metadata": {},
   "source": [
    "# **Week 4 Python Practice - Lists, Types, Loops**#\n",
    "\n",
    "Complete this notebook to get practice with some of the Python concepts you've been studying. You can work together to solve these notebooks - just please make sure everyone is understanding the code, and be sure to complete your own notebook!\n",
    "\n",
    "Here's what you will do in this notebook:\n",
    " - Evaluate some features of a list - how many elements are in it? How can we look at specific values in a list?\n",
    " - Loop through the values in a list and take some actions based on what you find\n",
    " - Do some simple math\n",
    " - Perform the same action on multiple lists"
   ]
  },
  {
   "cell_type": "code",
   "execution_count": 1,
   "metadata": {},
   "outputs": [],
   "source": [
    "# Don't change this block of code\n",
    "practice_list = ['1', '3', '2', '1', '10', '2', '3', '5', '6', '0', '4', '1', '8', '3', '10', '5', '0', '8', '8', '5']"
   ]
  },
  {
   "cell_type": "code",
   "execution_count": null,
   "metadata": {},
   "outputs": [],
   "source": [
    "# Print how many numbers are in practice_list"
   ]
  },
  {
   "cell_type": "code",
   "execution_count": null,
   "metadata": {},
   "outputs": [],
   "source": [
    "# Print the first, last, and 10th numbers in the list"
   ]
  },
  {
   "cell_type": "code",
   "execution_count": 4,
   "metadata": {},
   "outputs": [
    {
     "name": "stdout",
     "output_type": "stream",
     "text": [
      "0\n"
     ]
    }
   ],
   "source": [
    "# For every [number] in practice list, print:\n",
    "# 'Number [index] in the list is [number]'\n",
    "# where index is what position it is on the list. For example, \"Number 0 in the list is 1\" \"Number 1 on the list is 3\"\n",
    "# Remember that python is 0 indexed!\n",
    "print(0)"
   ]
  },
  {
   "cell_type": "code",
   "execution_count": 2,
   "metadata": {},
   "outputs": [
    {
     "ename": "SyntaxError",
     "evalue": "invalid syntax (<ipython-input-2-218f7b6f2e85>, line 5)",
     "output_type": "error",
     "traceback": [
      "\u001b[1;36m  File \u001b[1;32m\"<ipython-input-2-218f7b6f2e85>\"\u001b[1;36m, line \u001b[1;32m5\u001b[0m\n\u001b[1;33m    for i in range(len(practice_list))\u001b[0m\n\u001b[1;37m                                      ^\u001b[0m\n\u001b[1;31mSyntaxError\u001b[0m\u001b[1;31m:\u001b[0m invalid syntax\n"
     ]
    }
   ],
   "source": [
    "# For every [number] in practice_list, do the following:\n",
    "# If the number is even, print '[number] is EVEN'\n",
    "# If the number is odd and not divisible by three, print '[number] is ODD'\n",
    "# If the number is odd and divisible by three, print '[number] is WEIRD'\n",
    "for i in range(len(practice_list))\n",
    "    print(practice_list[i])"
   ]
  },
  {
   "cell_type": "code",
   "execution_count": null,
   "metadata": {},
   "outputs": [],
   "source": [
    "# For every [number] in practice_list, do the following:\n",
    "# If the number plus the number after it is even, print '[number] plus [number after] is EVEN'\n",
    "# Otherwise print nothing"
   ]
  },
  {
   "cell_type": "markdown",
   "metadata": {},
   "source": [
    "If you've finished the above exercises, nice work. In the next block of code, we will create lists with information about students. The lists will have the following information in this order (all grades are out of 100):\n",
    " - Student name\n",
    " - Science grade\n",
    " - Math grade\n",
    " - English grade\n",
    " - History grade"
   ]
  },
  {
   "cell_type": "code",
   "execution_count": 1,
   "metadata": {},
   "outputs": [],
   "source": [
    "# Don't change this block of code\n",
    "student_1 = ['Erica', 97, 95, 69, 77]\n",
    "student_2 = ['Jim', 70, 89, 83, 70]\n",
    "student_3 = ['Alex', 69, 86, 87, 65]\n",
    "student_4 = ['Lauren', 81, 86, 87, 65]\n",
    "student_5 = ['Dana', 84, 74, 84, 70]"
   ]
  },
  {
   "cell_type": "code",
   "execution_count": null,
   "metadata": {},
   "outputs": [],
   "source": [
    "# Print each student's name and average grade"
   ]
  },
  {
   "cell_type": "code",
   "execution_count": null,
   "metadata": {},
   "outputs": [],
   "source": [
    "# Print each student's best subject"
   ]
  },
  {
   "cell_type": "code",
   "execution_count": null,
   "metadata": {},
   "outputs": [],
   "source": [
    "# Print each subject's average grade"
   ]
  }
 ],
 "metadata": {
  "kernelspec": {
   "display_name": "Environment (conda_anaconda3)",
   "language": "python",
   "name": "conda_anaconda3"
  },
  "language_info": {
   "codemirror_mode": {
    "name": "ipython",
    "version": 3
   },
   "file_extension": ".py",
   "mimetype": "text/x-python",
   "name": "python",
   "nbconvert_exporter": "python",
   "pygments_lexer": "ipython3",
   "version": "3.7.1"
  }
 },
 "nbformat": 4,
 "nbformat_minor": 4
}
