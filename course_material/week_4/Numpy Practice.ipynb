{
 "cells": [
  {
   "cell_type": "markdown",
   "metadata": {},
   "source": [
    "# **Week 4 Python Practice - Numpy Arrays**#\n",
    "\n",
    "Let's do some simple numpy practice. In this notebook, you should complete the following goals:\n",
    " - Create a numpy array with 20 random numbers \n",
    "      - The numbers must be integers\n",
    "      - All numbers should be between 0 and 100\n",
    " - Print the highest and lowest number in your array\n",
    " - Make a second array from all the even numbers in your first array\n",
    " - Print how many even numbers there were\n",
    " - Create a third array of all 1s that is the same size of your even number array\n",
    " - Add your ones array to your even number array\n",
    " - Confirm that the result is the same size as your even array and that all numbers are now odd"
   ]
  },
  {
   "cell_type": "code",
   "execution_count": null,
   "metadata": {},
   "outputs": [],
   "source": [
    "# First, you should import the numpy library. By convention, the numpy library is called np "
   ]
  },
  {
   "cell_type": "code",
   "execution_count": null,
   "metadata": {},
   "outputs": [],
   "source": [
    "# Create your random number array. Remember that all numbers must be integers, and should be in the range 0-100"
   ]
  },
  {
   "cell_type": "code",
   "execution_count": null,
   "metadata": {},
   "outputs": [],
   "source": [
    "# Print the highest and lowest number in your array"
   ]
  },
  {
   "cell_type": "code",
   "execution_count": null,
   "metadata": {},
   "outputs": [],
   "source": [
    "# Make a second array that contains all the even numbers in your first array"
   ]
  },
  {
   "cell_type": "code",
   "execution_count": null,
   "metadata": {},
   "outputs": [],
   "source": [
    "# Print how many even numbers there were"
   ]
  },
  {
   "cell_type": "code",
   "execution_count": null,
   "metadata": {},
   "outputs": [],
   "source": [
    "# Create a third array of all 1s. All values should equal 1, and it should be the same size as your even number array"
   ]
  },
  {
   "cell_type": "code",
   "execution_count": null,
   "metadata": {},
   "outputs": [],
   "source": [
    "# Add your ones array to your even number array"
   ]
  },
  {
   "cell_type": "code",
   "execution_count": null,
   "metadata": {},
   "outputs": [],
   "source": [
    "# Confirm that the result is the same size as your even array, and that all numbers are now odd."
   ]
  }
 ],
 "metadata": {
  "celltoolbar": "Raw Cell Format",
  "kernelspec": {
   "display_name": "Environment (conda_anaconda3)",
   "language": "python",
   "name": "conda_anaconda3"
  },
  "language_info": {
   "codemirror_mode": {
    "name": "ipython",
    "version": 3
   },
   "file_extension": ".py",
   "mimetype": "text/x-python",
   "name": "python",
   "nbconvert_exporter": "python",
   "pygments_lexer": "ipython3",
   "version": "3.7.1"
  }
 },
 "nbformat": 4,
 "nbformat_minor": 4
}
