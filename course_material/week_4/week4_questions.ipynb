{
 "cells": [
  {
   "cell_type": "code",
   "execution_count": 1,
   "metadata": {},
   "outputs": [],
   "source": [
    "import numpy as np  # this imports numpy and renames it as np when used in this notebook"
   ]
  },
  {
   "cell_type": "markdown",
   "metadata": {},
   "source": [
    "# Questions"
   ]
  },
  {
   "cell_type": "markdown",
   "metadata": {},
   "source": [
    "### How to derive an integer from an octal number?"
   ]
  },
  {
   "cell_type": "markdown",
   "metadata": {},
   "source": [
    "https://www.programiz.com/python-programming/methods/built-in/int"
   ]
  },
  {
   "cell_type": "code",
   "execution_count": 2,
   "metadata": {},
   "outputs": [
    {
     "name": "stdout",
     "output_type": "stream",
     "text": [
      "3\n",
      "3\n",
      "13\n",
      "52\n",
      "359\n",
      "1372\n"
     ]
    }
   ],
   "source": [
    "# int(value, base)\n",
    "print(int('3', 8))  # three parts of 8  --  3 == 3\n",
    "print(int('03', 8))  # zero 8's, three parts of 8  --  0*8 + 3 == 0 + 3\n",
    "print(int('15', 8))  # have one 8 (1*8), zero parts of 8  --  1*8 + 5 == 8 + 5 == 13\n",
    "print(int('64', 8))  # have six 8's (6*8), four parts of 8  --  6*8 + 4 == 52 + 4 == 56\n",
    "print(int('547', 8))  # have five 8*8's (5*8*8)  --  5*8*8 + 4*8 + 7 == 320 + 32 + 7 == 359\n",
    "print(int('2534', 8))  # have two 8*8*8's (2*8*8*8), five 8*8's (5*8*8), three 8's, four parts of 8  --  2*8*8*8 + 5*8*8 + 3*8 + 4 == 1024 + 320 + 24 + 4 == 1372"
   ]
  },
  {
   "cell_type": "code",
   "execution_count": 3,
   "metadata": {},
   "outputs": [
    {
     "name": "stdout",
     "output_type": "stream",
     "text": [
      "0\n",
      "10092799\n",
      "16711935\n",
      "16777215\n"
     ]
    }
   ],
   "source": [
    "# we talked about RGB color values represented in hexadecimal (6 == hexa, 10 == deci, hence 6+10==16)\n",
    "# There are 6 values for colors where the first two values represent red, then green (3rd & 4th values), then blue (5th & 6th values)\n",
    "# having two values for each color, each color then ranges between 0 & 256, representing the amount of that color (red, green, or blue)\n",
    "# the following are integer values of color values\n",
    "# normally, RGB colors would only be referred to in the hexademical form, \n",
    "# but for the sake of demonstrating the integer conversion to something other than octals, I've printed their integer equivalents\n",
    "print(int('000000', 16)) # black\n",
    "print(int('9A00FF', 16)) # bluish purple\n",
    "print(int('FF00FF', 16)) # purple\n",
    "print(int('FFFFFF', 16)) # white"
   ]
  },
  {
   "cell_type": "markdown",
   "metadata": {},
   "source": [
    "### Can you discuss in further detail when it's appropriate to use a tuple vs a list?"
   ]
  },
  {
   "cell_type": "markdown",
   "metadata": {},
   "source": [
    "https://www.simplifiedpython.net/python-tuple-vs-list/\n",
    "\n",
    "Lists are mutable, tuples are immutable (variable length vs fixed length)\n",
    "\n",
    "Think of these as making a plan and sticking to it (tuple), or being more flexible to make a change in plans/ad hoc (lists)\n",
    "\n",
    "Lists are less efficient in size and when operating on them or with them, but lists allow you to be more flexible, especially if you're exploring how to work with your data"
   ]
  },
  {
   "cell_type": "code",
   "execution_count": 4,
   "metadata": {},
   "outputs": [
    {
     "name": "stdout",
     "output_type": "stream",
     "text": [
      "[1, 2, 3]\n"
     ]
    }
   ],
   "source": [
    "a = [1, 2, 3]\n",
    "print(a)"
   ]
  },
  {
   "cell_type": "code",
   "execution_count": 5,
   "metadata": {},
   "outputs": [
    {
     "data": {
      "text/plain": [
       "(1, 2, 3)"
      ]
     },
     "execution_count": 5,
     "metadata": {},
     "output_type": "execute_result"
    }
   ],
   "source": [
    "tuple(a)"
   ]
  },
  {
   "cell_type": "code",
   "execution_count": 6,
   "metadata": {},
   "outputs": [
    {
     "data": {
      "text/plain": [
       "[1, 2, 3]"
      ]
     },
     "execution_count": 6,
     "metadata": {},
     "output_type": "execute_result"
    }
   ],
   "source": [
    "list(tuple(a))  # you can cast a list as a tuple, do stuff, then cast it back (and vice versa), if you want"
   ]
  },
  {
   "cell_type": "markdown",
   "metadata": {},
   "source": [
    "### Please explain how we would use dimensional arrays IRL data science usage."
   ]
  },
  {
   "cell_type": "markdown",
   "metadata": {},
   "source": [
    "https://towardsdatascience.com/understanding-high-dimensional-spaces-in-machine-learning-4c5c38930b6a\n",
    "\n",
    "https://towardsdatascience.com/that-cursing-dimensionality-ac317fb0fdcc\n",
    "\n",
    "1D - lists, tuples, vectors, array, etc.\n",
    "\n",
    "Single feature\n",
    "\n",
    "Response variable\n",
    "\n",
    "2D - list of lists, matrices, ndarray, dataframe, tabular data, etc.\n",
    "\n",
    "Feature sets\n",
    "\n",
    "Single channel image data\n",
    "\n",
    "Interaction matrices\n",
    "\n",
    "Covariate matrices\n",
    "\n",
    "nD - nested lists, tensors, ndarray, multiindex dataframes, etc.\n",
    "\n",
    "Multichannel image data\n",
    "\n",
    "Nested grouping of features\n",
    "\n",
    "2D data in time (series of image snapshots)\n",
    "\n",
    "Typically, high dimensional spaces can be 'flattened' to a 2D array, such that the shape of that array increases by the number of datapoints, for each dimension flattened"
   ]
  },
  {
   "cell_type": "markdown",
   "metadata": {},
   "source": [
    "### Broadcasting of numpy array: from the reading:\n",
    "\n",
    "#### \"First off, to make sure that the broadcasting is successful, the dimensions of your arrays need to be compatible. \n",
    "\n",
    "#### Two dimensions are compatible when the are equal. Consider the following example: \n",
    "\n",
    "#### 'x has dimension of 3x4 and y has a dimension of 4.'\"\n",
    "\n",
    "### Does that mean they are compatible? \n",
    "\n",
    "### Even if x is a 2D array and y is a 1D array, are they still compatible, since the column numbers match?'\"\n"
   ]
  },
  {
   "cell_type": "markdown",
   "metadata": {},
   "source": [
    "https://docs.scipy.org/doc/numpy/user/basics.broadcasting.html\n",
    "\n",
    "The phrasing is mixing the use of the term dimension\n",
    "\n",
    "3x4 is the shape of a 2D array, 3 rows & 4 columns, shape is (3, 4)\n",
    "\n",
    "x has shape of a 3x4 array and y has a length of 4 (and shape = (4,)). aka, x is 2D and y is 1D\n",
    "\n",
    "The length of the shape tuple (also known as the rank of the array) is the dimension of the array\n",
    "\n",
    "General broadcasting rules require 1. that both arguments have equal dimension or 2. one of the arguments is 1D with matching shape to the axis of interest of the other argument"
   ]
  },
  {
   "cell_type": "code",
   "execution_count": 7,
   "metadata": {},
   "outputs": [
    {
     "name": "stdout",
     "output_type": "stream",
     "text": [
      "[[1 2 3]\n",
      " [4 5 6]]\n"
     ]
    }
   ],
   "source": [
    "x = np.array([[1, 2, 3], [4, 5, 6]])\n",
    "print(x)"
   ]
  },
  {
   "cell_type": "code",
   "execution_count": 8,
   "metadata": {},
   "outputs": [
    {
     "data": {
      "text/plain": [
       "6"
      ]
     },
     "execution_count": 8,
     "metadata": {},
     "output_type": "execute_result"
    }
   ],
   "source": [
    "x.size"
   ]
  },
  {
   "cell_type": "code",
   "execution_count": 9,
   "metadata": {},
   "outputs": [
    {
     "data": {
      "text/plain": [
       "(2, 3)"
      ]
     },
     "execution_count": 9,
     "metadata": {},
     "output_type": "execute_result"
    }
   ],
   "source": [
    "np.shape(x)"
   ]
  },
  {
   "cell_type": "code",
   "execution_count": 10,
   "metadata": {},
   "outputs": [
    {
     "data": {
      "text/plain": [
       "2"
      ]
     },
     "execution_count": 10,
     "metadata": {},
     "output_type": "execute_result"
    }
   ],
   "source": [
    "x.ndim"
   ]
  },
  {
   "cell_type": "code",
   "execution_count": 11,
   "metadata": {},
   "outputs": [
    {
     "data": {
      "text/plain": [
       "2"
      ]
     },
     "execution_count": 11,
     "metadata": {},
     "output_type": "execute_result"
    }
   ],
   "source": [
    "len(np.shape(x))"
   ]
  },
  {
   "cell_type": "code",
   "execution_count": 12,
   "metadata": {},
   "outputs": [
    {
     "data": {
      "text/plain": [
       "array([[11, 22, 33],\n",
       "       [14, 25, 36]])"
      ]
     },
     "execution_count": 12,
     "metadata": {},
     "output_type": "execute_result"
    }
   ],
   "source": [
    "x + [10, 20, 30]  # broadcasts the right array to each row of x"
   ]
  },
  {
   "cell_type": "code",
   "execution_count": 13,
   "metadata": {},
   "outputs": [
    {
     "ename": "ValueError",
     "evalue": "operands could not be broadcast together with shapes (2,3) (2,) ",
     "output_type": "error",
     "traceback": [
      "\u001b[0;31m---------------------------------------------------------------------------\u001b[0m",
      "\u001b[0;31mValueError\u001b[0m                                Traceback (most recent call last)",
      "\u001b[0;32m<ipython-input-13-acf943fb5f4c>\u001b[0m in \u001b[0;36m<module>\u001b[0;34m\u001b[0m\n\u001b[0;32m----> 1\u001b[0;31m \u001b[0mx\u001b[0m \u001b[0;34m+\u001b[0m \u001b[0;34m[\u001b[0m\u001b[0;36m100\u001b[0m\u001b[0;34m,\u001b[0m \u001b[0;36m200\u001b[0m\u001b[0;34m]\u001b[0m  \u001b[0;31m# doesn't work, bc right array doesn't match the column shape of x (3)\u001b[0m\u001b[0;34m\u001b[0m\u001b[0;34m\u001b[0m\u001b[0m\n\u001b[0m",
      "\u001b[0;31mValueError\u001b[0m: operands could not be broadcast together with shapes (2,3) (2,) "
     ]
    }
   ],
   "source": [
    "x + [100, 200]  # doesn't work, bc right array doesn't match the column shape of x (3)"
   ]
  },
  {
   "cell_type": "code",
   "execution_count": 14,
   "metadata": {},
   "outputs": [
    {
     "data": {
      "text/plain": [
       "array([[101, 102, 103],\n",
       "       [204, 205, 206]])"
      ]
     },
     "execution_count": 14,
     "metadata": {},
     "output_type": "execute_result"
    }
   ],
   "source": [
    "x + [[100], [200]]  # this works, bc the right array has shape (2,1), not (2,) (notice in the error message above the shape comment)"
   ]
  },
  {
   "cell_type": "code",
   "execution_count": 15,
   "metadata": {},
   "outputs": [
    {
     "data": {
      "text/plain": [
       "(2, 1)"
      ]
     },
     "execution_count": 15,
     "metadata": {},
     "output_type": "execute_result"
    }
   ],
   "source": [
    "np.shape([[100], [200]])"
   ]
  },
  {
   "cell_type": "code",
   "execution_count": 16,
   "metadata": {},
   "outputs": [
    {
     "data": {
      "text/plain": [
       "(2,)"
      ]
     },
     "execution_count": 16,
     "metadata": {},
     "output_type": "execute_result"
    }
   ],
   "source": [
    "np.shape([100, 200])"
   ]
  },
  {
   "cell_type": "markdown",
   "metadata": {},
   "source": [
    "### In the floor, ceil, and rint homework, required a line in the coding program to include a print option line for spacing. \n",
    "\n",
    "### numpy.set_printoptions(sign=' ') in order to get the correct answer. \n",
    "\n",
    "### However in the arrays question, it had the same spacing requirement for output, but I didn't need to include the print option line. \n",
    "\n",
    "### What determines when you need to add this line of code?"
   ]
  },
  {
   "cell_type": "markdown",
   "metadata": {},
   "source": [
    "If these are in the same code block, then you'd only need to call this once. If instead each function is separated, then you would call the print options each time."
   ]
  },
  {
   "cell_type": "code",
   "execution_count": 17,
   "metadata": {},
   "outputs": [],
   "source": [
    "np.set_printoptions(sign=' ')"
   ]
  },
  {
   "cell_type": "code",
   "execution_count": 18,
   "metadata": {},
   "outputs": [],
   "source": [
    "def spacing(list_like_object):\n",
    "    print('now in spacing')\n",
    "    b = [str(x) for x in list_like_object]  # list comprehension to type cast each element as a string\n",
    "    print(b)\n",
    "    c = np.floor(a)  # floor all elemnts in the list-like object, a\n",
    "    print(c)\n",
    "    d = ' ' + ' '.join([str(x) for x in c])  # add the beginning space\n",
    "    print('done with spacing')\n",
    "    return d"
   ]
  },
  {
   "cell_type": "code",
   "execution_count": 19,
   "metadata": {},
   "outputs": [
    {
     "name": "stdout",
     "output_type": "stream",
     "text": [
      "[1.2, 2.5, 3.0]\n",
      "now in spacing\n",
      "['1.2', '2.5', '3.0']\n",
      "[ 1.  2.  3.]\n",
      "done with spacing\n",
      " 1.0 2.0 3.0\n"
     ]
    }
   ],
   "source": [
    "a = [1.2, 2.5, 3.0]  # a list\n",
    "print(a)\n",
    "result = spacing(a)\n",
    "print(result)"
   ]
  },
  {
   "cell_type": "markdown",
   "metadata": {},
   "source": [
    "### Can we specify dtype as integer for any numpy function? \n",
    "\n",
    "### For instance, np.zeros((1,2), dtype=np.int) works, but np.divide((x,y), dtype=np.int) does not work. \n",
    "\n",
    "### What am I supposed to do if I want to return an integer after division?\n"
   ]
  },
  {
   "cell_type": "markdown",
   "metadata": {},
   "source": [
    "Yes, you can specify dtype\n",
    "\n",
    "https://docs.scipy.org/doc/numpy/reference/generated/numpy.divide.html\n",
    "\n",
    "I think this is primarily just a typo with using (x,y), giving divide a tuple, not two values as expected."
   ]
  },
  {
   "cell_type": "code",
   "execution_count": 20,
   "metadata": {},
   "outputs": [],
   "source": [
    "# uncomment the following line and run it to see the documentation about numpy's divide function\n",
    "#np.divide?\n",
    "\n",
    "# note the Call signature, it specifies how to call the function and that it expects args & kwargs\n",
    "# note the Type, it indicates ufunc, which is a special, under-the-hood/behind-the-scenes numpy data type that may help google questions about the function\n",
    "# note the String form, it states that the ufunc name is true_divide, \n",
    "#   which is different from integer or floor division in that it returns real valued floats, not ints\n",
    "# note the Docstring, it shows the function definition with all parameters that it expects & can handle, ie each arg & kwarg specified. \n",
    "#   The / indicates the end of args and beginning of kwargs. \n",
    "#   np.divide apparently is equivalent to np.true_divide, taking two args: x1 & x2\n",
    "#   and a bunch of kwargs: out, where, casting, order, dtype, etc.\n",
    "# note the Parameters, each arg and kwarg are explained in greater detail, including their expected dtypes & some description"
   ]
  },
  {
   "cell_type": "code",
   "execution_count": 21,
   "metadata": {},
   "outputs": [
    {
     "name": "stdout",
     "output_type": "stream",
     "text": [
      "[[14.5, 5], [3, 2]]\n"
     ]
    }
   ],
   "source": [
    "some_array = [[14.5, 5], [3, 2]]\n",
    "print(some_array)"
   ]
  },
  {
   "cell_type": "code",
   "execution_count": 22,
   "metadata": {},
   "outputs": [
    {
     "ename": "ValueError",
     "evalue": "invalid number of arguments",
     "output_type": "error",
     "traceback": [
      "\u001b[0;31m---------------------------------------------------------------------------\u001b[0m",
      "\u001b[0;31mValueError\u001b[0m                                Traceback (most recent call last)",
      "\u001b[0;32m<ipython-input-22-420bdb34ceff>\u001b[0m in \u001b[0;36m<module>\u001b[0;34m\u001b[0m\n\u001b[0;32m----> 1\u001b[0;31m \u001b[0mnp\u001b[0m\u001b[0;34m.\u001b[0m\u001b[0mdivide\u001b[0m\u001b[0;34m(\u001b[0m\u001b[0;34m(\u001b[0m\u001b[0msome_array\u001b[0m\u001b[0;34m)\u001b[0m\u001b[0;34m,\u001b[0m \u001b[0mdtype\u001b[0m\u001b[0;34m=\u001b[0m\u001b[0mnp\u001b[0m\u001b[0;34m.\u001b[0m\u001b[0mint\u001b[0m\u001b[0;34m)\u001b[0m  \u001b[0;31m# this is the code from the question that doesn't work, again, it's bc a tuple is given, not two args\u001b[0m\u001b[0;34m\u001b[0m\u001b[0;34m\u001b[0m\u001b[0m\n\u001b[0m",
      "\u001b[0;31mValueError\u001b[0m: invalid number of arguments"
     ]
    }
   ],
   "source": [
    "np.divide((some_array), dtype=np.int)  # this is the code from the question that doesn't work, again, it's bc a tuple is given, not two args"
   ]
  },
  {
   "cell_type": "code",
   "execution_count": 23,
   "metadata": {},
   "outputs": [
    {
     "data": {
      "text/plain": [
       "array([ 4.83333333,  2.5       ])"
      ]
     },
     "execution_count": 23,
     "metadata": {},
     "output_type": "execute_result"
    }
   ],
   "source": [
    "np.divide(some_array[0], some_array[1])  # divide [14, 5] by [3, 2], that is [14/3, 5/2]"
   ]
  },
  {
   "cell_type": "code",
   "execution_count": 24,
   "metadata": {},
   "outputs": [
    {
     "data": {
      "text/plain": [
       "array([ 4.,  2.])"
      ]
     },
     "execution_count": 24,
     "metadata": {},
     "output_type": "execute_result"
    }
   ],
   "source": [
    "np.floor_divide(some_array[0], some_array[1])"
   ]
  },
  {
   "cell_type": "code",
   "execution_count": 25,
   "metadata": {},
   "outputs": [
    {
     "data": {
      "text/plain": [
       "array([ 5.,  2.])"
      ]
     },
     "execution_count": 25,
     "metadata": {},
     "output_type": "execute_result"
    }
   ],
   "source": [
    "x = np.divide(some_array[0], some_array[1])\n",
    "np.rint(x)"
   ]
  },
  {
   "cell_type": "code",
   "execution_count": 26,
   "metadata": {},
   "outputs": [
    {
     "data": {
      "text/plain": [
       "array([ 5.,  3.])"
      ]
     },
     "execution_count": 26,
     "metadata": {},
     "output_type": "execute_result"
    }
   ],
   "source": [
    "x = np.divide(some_array[0], some_array[1])\n",
    "np.ceil(x)"
   ]
  },
  {
   "cell_type": "code",
   "execution_count": 27,
   "metadata": {},
   "outputs": [
    {
     "data": {
      "text/plain": [
       "array([ 4.,  2.])"
      ]
     },
     "execution_count": 27,
     "metadata": {},
     "output_type": "execute_result"
    }
   ],
   "source": [
    "x = np.divide(some_array[0], some_array[1])\n",
    "np.floor(x)"
   ]
  },
  {
   "cell_type": "code",
   "execution_count": 28,
   "metadata": {},
   "outputs": [
    {
     "name": "stdout",
     "output_type": "stream",
     "text": [
      "[ 4.66666667  2.5       ]\n"
     ]
    }
   ],
   "source": [
    "x = np.divide(np.rint(some_array[0]), np.rint(some_array[1]))  # this doesn't print int values, bc rounding ocurrs before division\n",
    "print(x)"
   ]
  },
  {
   "cell_type": "code",
   "execution_count": 29,
   "metadata": {},
   "outputs": [
    {
     "name": "stdout",
     "output_type": "stream",
     "text": [
      "[ 5.  2.]\n"
     ]
    }
   ],
   "source": [
    "x = np.divide(some_array[0], some_array[1])  # this prints int values, bc round ocurrs after division\n",
    "print(np.rint(x))"
   ]
  },
  {
   "cell_type": "code",
   "execution_count": null,
   "metadata": {},
   "outputs": [],
   "source": []
  },
  {
   "cell_type": "markdown",
   "metadata": {},
   "source": [
    "### How can we append to rows? \n",
    "\n",
    "### I have an array: \n",
    "\n",
    "#### my_2d_array = [[1 2 3 4], [5 6 7 8]] \n",
    "\n",
    "### and I was able to append to columns using \n",
    "\n",
    "#### np.append(my_2d_array, [[7], [8]], axis=1) \n",
    "\n",
    "### but the following did not work: \n",
    "\n",
    "#### new_2d_array = np.append(my_2d_array, [[7], [8], [1], [1]], axis=0)"
   ]
  },
  {
   "cell_type": "markdown",
   "metadata": {},
   "source": [
    "Looks like you're trying to append a list of lists, not a list of ints\n",
    "\n",
    "https://docs.scipy.org/doc/numpy/reference/generated/numpy.append.html\n",
    "\n",
    "For the second arg: \"must be of the correct shape (the same shape as arr, excluding axis).\"\n",
    "\n",
    "Another incorrect attempt is np.append(my_2d_array, [7 8 1 1], axis=1), \n",
    "\n",
    "bc shape of second arg is (4,), not (2, 4)\n",
    "\n",
    "Without axis, append flattens the arrays to 1D"
   ]
  },
  {
   "cell_type": "code",
   "execution_count": 30,
   "metadata": {},
   "outputs": [
    {
     "name": "stdout",
     "output_type": "stream",
     "text": [
      "[[1, 2, 3, 4], [5, 6, 7, 8]]\n"
     ]
    }
   ],
   "source": [
    "my_2d_array = [[1, 2, 3, 4], [5, 6, 7, 8]]  # what was given\n",
    "print(my_2d_array)"
   ]
  },
  {
   "cell_type": "code",
   "execution_count": 31,
   "metadata": {},
   "outputs": [
    {
     "data": {
      "text/plain": [
       "array([[1, 2, 3, 4, 7],\n",
       "       [5, 6, 7, 8, 8]])"
      ]
     },
     "execution_count": 31,
     "metadata": {},
     "output_type": "execute_result"
    }
   ],
   "source": [
    "np.append(my_2d_array, [[7], [8]], axis=1)  # working append to columns"
   ]
  },
  {
   "cell_type": "code",
   "execution_count": 32,
   "metadata": {},
   "outputs": [
    {
     "ename": "ValueError",
     "evalue": "all the input array dimensions for the concatenation axis must match exactly, but along dimension 1, the array at index 0 has size 4 and the array at index 1 has size 1",
     "output_type": "error",
     "traceback": [
      "\u001b[0;31m---------------------------------------------------------------------------\u001b[0m",
      "\u001b[0;31mValueError\u001b[0m                                Traceback (most recent call last)",
      "\u001b[0;32m<ipython-input-32-5701d91ab134>\u001b[0m in \u001b[0;36m<module>\u001b[0;34m\u001b[0m\n\u001b[0;32m----> 1\u001b[0;31m \u001b[0mnp\u001b[0m\u001b[0;34m.\u001b[0m\u001b[0mappend\u001b[0m\u001b[0;34m(\u001b[0m\u001b[0mmy_2d_array\u001b[0m\u001b[0;34m,\u001b[0m \u001b[0;34m[\u001b[0m\u001b[0;34m[\u001b[0m\u001b[0;36m7\u001b[0m\u001b[0;34m]\u001b[0m\u001b[0;34m,\u001b[0m \u001b[0;34m[\u001b[0m\u001b[0;36m8\u001b[0m\u001b[0;34m]\u001b[0m\u001b[0;34m,\u001b[0m \u001b[0;34m[\u001b[0m\u001b[0;36m1\u001b[0m\u001b[0;34m]\u001b[0m\u001b[0;34m,\u001b[0m \u001b[0;34m[\u001b[0m\u001b[0;36m1\u001b[0m\u001b[0;34m]\u001b[0m\u001b[0;34m]\u001b[0m\u001b[0;34m,\u001b[0m \u001b[0maxis\u001b[0m\u001b[0;34m=\u001b[0m\u001b[0;36m0\u001b[0m\u001b[0;34m)\u001b[0m  \u001b[0;31m# does not work due to appending list of lists, not list of ints\u001b[0m\u001b[0;34m\u001b[0m\u001b[0;34m\u001b[0m\u001b[0m\n\u001b[0m\u001b[1;32m      2\u001b[0m \u001b[0;31m# note the last line of the error message describing the shape along each dimension\u001b[0m\u001b[0;34m\u001b[0m\u001b[0;34m\u001b[0m\u001b[0;34m\u001b[0m\u001b[0m\n",
      "\u001b[0;32m<__array_function__ internals>\u001b[0m in \u001b[0;36mappend\u001b[0;34m(*args, **kwargs)\u001b[0m\n",
      "\u001b[0;32m~/Learn/CoderGirl/venv/lib/python3.7/site-packages/numpy/lib/function_base.py\u001b[0m in \u001b[0;36mappend\u001b[0;34m(arr, values, axis)\u001b[0m\n\u001b[1;32m   4698\u001b[0m         \u001b[0mvalues\u001b[0m \u001b[0;34m=\u001b[0m \u001b[0mravel\u001b[0m\u001b[0;34m(\u001b[0m\u001b[0mvalues\u001b[0m\u001b[0;34m)\u001b[0m\u001b[0;34m\u001b[0m\u001b[0;34m\u001b[0m\u001b[0m\n\u001b[1;32m   4699\u001b[0m         \u001b[0maxis\u001b[0m \u001b[0;34m=\u001b[0m \u001b[0marr\u001b[0m\u001b[0;34m.\u001b[0m\u001b[0mndim\u001b[0m\u001b[0;34m-\u001b[0m\u001b[0;36m1\u001b[0m\u001b[0;34m\u001b[0m\u001b[0;34m\u001b[0m\u001b[0m\n\u001b[0;32m-> 4700\u001b[0;31m     \u001b[0;32mreturn\u001b[0m \u001b[0mconcatenate\u001b[0m\u001b[0;34m(\u001b[0m\u001b[0;34m(\u001b[0m\u001b[0marr\u001b[0m\u001b[0;34m,\u001b[0m \u001b[0mvalues\u001b[0m\u001b[0;34m)\u001b[0m\u001b[0;34m,\u001b[0m \u001b[0maxis\u001b[0m\u001b[0;34m=\u001b[0m\u001b[0maxis\u001b[0m\u001b[0;34m)\u001b[0m\u001b[0;34m\u001b[0m\u001b[0;34m\u001b[0m\u001b[0m\n\u001b[0m\u001b[1;32m   4701\u001b[0m \u001b[0;34m\u001b[0m\u001b[0m\n\u001b[1;32m   4702\u001b[0m \u001b[0;34m\u001b[0m\u001b[0m\n",
      "\u001b[0;32m<__array_function__ internals>\u001b[0m in \u001b[0;36mconcatenate\u001b[0;34m(*args, **kwargs)\u001b[0m\n",
      "\u001b[0;31mValueError\u001b[0m: all the input array dimensions for the concatenation axis must match exactly, but along dimension 1, the array at index 0 has size 4 and the array at index 1 has size 1"
     ]
    }
   ],
   "source": [
    "np.append(my_2d_array, [[7], [8], [1], [1]], axis=0)  # does not work due to appending list of lists, not list of ints\n",
    "# note the last line of the error message describing the shape along each dimension"
   ]
  },
  {
   "cell_type": "code",
   "execution_count": 33,
   "metadata": {},
   "outputs": [
    {
     "data": {
      "text/plain": [
       "array([[1, 2, 3, 4],\n",
       "       [5, 6, 7, 8],\n",
       "       [7, 8, 1, 1]])"
      ]
     },
     "execution_count": 33,
     "metadata": {},
     "output_type": "execute_result"
    }
   ],
   "source": [
    "np.append(my_2d_array, [[7, 8, 1, 1]], axis=0)  # this works, bc this appends a list of ints, matching shape with my_2d_array"
   ]
  },
  {
   "cell_type": "markdown",
   "metadata": {},
   "source": [
    "### I can use numpy for HackerRank exercises, but I have a harder time writing the code to take input. \n",
    "\n",
    "### For instance, in the exercise for vector math, I saw people use the following code:\n",
    "\n",
    "### B = (np.array([input().split(' ') for _ in range(N)], dtype=int)). How does it exactly work and why did we not use dimension M in this code?"
   ]
  },
  {
   "cell_type": "markdown",
   "metadata": {},
   "source": [
    "Honestly, while this may work, it is not easily readable (I find it a working, but poor solution), since it does numerous things in one line.\n",
    "\n",
    "Although it can be difficult, you should aim to write easily readable code, where each line does one (maybe two things at worst).\n",
    "\n",
    "Think of writing code as you would to write a story. \n",
    "\n",
    "If anyone can, without your prompts or help, read it and understand without much effort what you're trying to do, then you've got great code, a great story.\n",
    "\n",
    "Back to the question:\n",
    "\n",
    "I'm not sure what M is, so I'll ignore that.\n",
    "\n",
    "Let's break down this one-liner:\n",
    "\n",
    "    Range(N) gives an iterable range between [0, N)\n",
    "    The _ is used as a dummy variable\n",
    "    input() calls function input and returns its value at return line (a str)\n",
    "    Being a str from input(), split is called to separate that str by ' '\n",
    "    input().split(' ') is then a list of str values from input\n",
    "    The list comprehension of [input().split(' ') for _ in range(N)] then calls input().split(' ') N times, building a list of lists (2D)\n",
    "    With the list comprehension part as the arg to np.array, this generates a 2D array containing N rows of input, such that the elements are int (dtype=int)\n",
    "    This 2D array is then put in as the first and only element of an array (…) and assigned to B\n",
    "\n",
    "Alternatively, a better story would be:\n",
    "\n",
    "    input_str = input()\n",
    "    input_list = input_str.split(' ')\n",
    "    input_N_list = [input_list for _ in range(N)]\n",
    "    input_array = np.array(input_n_list, dtype=int)\n",
    "    B = (input_array)"
   ]
  },
  {
   "cell_type": "code",
   "execution_count": 34,
   "metadata": {},
   "outputs": [],
   "source": [
    "N = 4  # let's assume N has some value, in this case 4\n",
    "input_return_value = '0 1 2 3'  # let's assume input() read a file or something, then returned a string. \n",
    "# I'm using context clues, how input() is used to infer what data type it is. I see split(' ') called from it, so it looks like a string."
   ]
  },
  {
   "cell_type": "code",
   "execution_count": 35,
   "metadata": {},
   "outputs": [
    {
     "name": "stdout",
     "output_type": "stream",
     "text": [
      "[[0 1 2 3]\n",
      " [0 1 2 3]\n",
      " [0 1 2 3]\n",
      " [0 1 2 3]]\n"
     ]
    }
   ],
   "source": [
    "B = (np.array([input_return_value.split(' ') for _ in range(N)], dtype=int))\n",
    "print(B)"
   ]
  },
  {
   "cell_type": "code",
   "execution_count": 36,
   "metadata": {},
   "outputs": [
    {
     "name": "stdout",
     "output_type": "stream",
     "text": [
      "[[0 1 2 3]\n",
      " [0 1 2 3]\n",
      " [0 1 2 3]\n",
      " [0 1 2 3]]\n"
     ]
    }
   ],
   "source": [
    "# my alternate story, pardon that it lacks exciting action & spice\n",
    "# at least it gets the job done, and hopefully is easier to understand (the goal for readable code)\n",
    "input_list = input_return_value.split(' ')\n",
    "input_n_list = [input_list for _ in range(N)]\n",
    "input_array = np.array(input_n_list, dtype=int)\n",
    "B = (input_array)\n",
    "print(B)"
   ]
  },
  {
   "cell_type": "markdown",
   "metadata": {},
   "source": [
    "### Why does print(max('gold', 'tin')) return 'tin?"
   ]
  },
  {
   "cell_type": "markdown",
   "metadata": {},
   "source": [
    "https://www.geeksforgeeks.org/max-min-python/\n",
    "\n",
    "Max returns the lexicographically 'larger' str, ie str found at the end of lexocographic sorting\n",
    "    \n",
    "Upper case before lower case\n",
    "    \n",
    "Punctuation, number, upper case, lower case\n",
    "    \n",
    "https://www.programiz.com/python-programming/examples/alphabetical-order\n",
    "   \n",
    "max('Argentina', 'Brazil', 'America', 'Egypt', 'Lesotho', 'India', 'Mongolia') returns …?"
   ]
  },
  {
   "cell_type": "code",
   "execution_count": 37,
   "metadata": {},
   "outputs": [
    {
     "data": {
      "text/plain": [
       "'Mongolia'"
      ]
     },
     "execution_count": 37,
     "metadata": {},
     "output_type": "execute_result"
    }
   ],
   "source": [
    "max('Argentina', 'Lesotho', 'Mongolia')"
   ]
  },
  {
   "cell_type": "code",
   "execution_count": 38,
   "metadata": {},
   "outputs": [
    {
     "data": {
      "text/plain": [
       "'Mongolia'"
      ]
     },
     "execution_count": 38,
     "metadata": {},
     "output_type": "execute_result"
    }
   ],
   "source": [
    "max('Argentina', 'Lesotho', 'Mongolia', 'Mongol')"
   ]
  },
  {
   "cell_type": "code",
   "execution_count": 39,
   "metadata": {},
   "outputs": [
    {
     "data": {
      "text/plain": [
       "'continent'"
      ]
     },
     "execution_count": 39,
     "metadata": {},
     "output_type": "execute_result"
    }
   ],
   "source": [
    "max('Argentina', 'Lesotho', 'Mongolia', 'Mongol', 'continent')"
   ]
  },
  {
   "cell_type": "markdown",
   "metadata": {},
   "source": [
    "### Why is it that when squared is called, there is nothing to return? \n",
    "\n",
    "### When squared is performed it returns a value? \n",
    "\n",
    "### Is the code wrong or are there some rules that I do not know?\n",
    "\n",
    "def squared(x):\n",
    "\n",
    "    result = x*2   # * does multiplication, ** does power\n",
    "    return (result)\n",
    "\n",
    "#### print(squared(5)) -> 10\n",
    "\n",
    "#### print(squared) -> <function squared at 0x…>\n",
    "\n",
    "#### y = squared\n",
    "\n",
    "#### print(y) -> <function squared at 0x…>\n",
    "\n",
    "#### list(map(squared, [1, 2, 3, 4, 5])) -> [2, 4, 6, 8, 10]"
   ]
  },
  {
   "cell_type": "markdown",
   "metadata": {},
   "source": [
    "https://stackoverflow.com/questions/37310706/difference-between-matlab-function-handle-and-python-function-object\n",
    "\n",
    "Calling the function without parens '()' calls the handle, a reference to the function (the address of the function in the computer memory).\n",
    "\n",
    "Calling the function with parens, executes the function given whatever input parameters.\n",
    "\n",
    "The code is fine, maybe you're observing some new behaviors\n",
    "\n",
    "map applies a function (squared) to some arguments ([1, 2, 3, 4, 5])\n",
    "\n",
    "list(map…) converts the map type to a list, hence the output\n",
    "\n",
    "map on its own would return <map object at 0x…>"
   ]
  },
  {
   "cell_type": "code",
   "execution_count": 40,
   "metadata": {},
   "outputs": [],
   "source": [
    "def squared(x):\n",
    "    result = x*2   # note that * does multiplication, ** does power, we'll work with the code as given\n",
    "    return (result)"
   ]
  },
  {
   "cell_type": "code",
   "execution_count": 41,
   "metadata": {},
   "outputs": [
    {
     "name": "stdout",
     "output_type": "stream",
     "text": [
      "10\n"
     ]
    }
   ],
   "source": [
    "print(squared(5)) # 10"
   ]
  },
  {
   "cell_type": "code",
   "execution_count": 42,
   "metadata": {},
   "outputs": [
    {
     "name": "stdout",
     "output_type": "stream",
     "text": [
      "<function squared at 0x110faf158>\n"
     ]
    }
   ],
   "source": [
    "print(squared) # the function handle"
   ]
  },
  {
   "cell_type": "code",
   "execution_count": 43,
   "metadata": {},
   "outputs": [
    {
     "name": "stdout",
     "output_type": "stream",
     "text": [
      "<function squared at 0x110faf158>\n"
     ]
    }
   ],
   "source": [
    "y = squared\n",
    "print(y) # assigning the handle to another variable, y. Note the same 0x... value is the same, we've assigned the function address, nothing more"
   ]
  },
  {
   "cell_type": "code",
   "execution_count": 44,
   "metadata": {},
   "outputs": [
    {
     "data": {
      "text/plain": [
       "[2, 4, 6, 8, 10]"
      ]
     },
     "execution_count": 44,
     "metadata": {},
     "output_type": "execute_result"
    }
   ],
   "source": [
    "list(map(squared, [1, 2, 3, 4, 5]))"
   ]
  },
  {
   "cell_type": "code",
   "execution_count": 45,
   "metadata": {},
   "outputs": [
    {
     "data": {
      "text/plain": [
       "<map at 0x11103b400>"
      ]
     },
     "execution_count": 45,
     "metadata": {},
     "output_type": "execute_result"
    }
   ],
   "source": [
    "map(squared, [1, 2, 3, 4, 5])  # some functions return special types"
   ]
  },
  {
   "cell_type": "code",
   "execution_count": 46,
   "metadata": {},
   "outputs": [
    {
     "data": {
      "text/plain": [
       "range(0, 4)"
      ]
     },
     "execution_count": 46,
     "metadata": {},
     "output_type": "execute_result"
    }
   ],
   "source": [
    "range(4)  # another function that returns a weird type, in this case, range is a type of iterable that can be used in things like for loops"
   ]
  },
  {
   "cell_type": "code",
   "execution_count": null,
   "metadata": {},
   "outputs": [],
   "source": []
  }
 ],
 "metadata": {
  "kernelspec": {
   "display_name": "Python 3",
   "language": "python",
   "name": "python3"
  },
  "language_info": {
   "codemirror_mode": {
    "name": "ipython",
    "version": 3
   },
   "file_extension": ".py",
   "mimetype": "text/x-python",
   "name": "python",
   "nbconvert_exporter": "python",
   "pygments_lexer": "ipython3",
   "version": "3.7.2"
  }
 },
 "nbformat": 4,
 "nbformat_minor": 4
}
